{
 "cells": [
  {
   "cell_type": "code",
   "execution_count": 1,
   "metadata": {},
   "outputs": [],
   "source": [
    "import pandas as pd\n",
    "import numpy as np\n",
    "import matplotlib.pyplot as plt\n",
    "import math as math\n",
    "import seaborn as sns"
   ]
  },
  {
   "cell_type": "code",
   "execution_count": null,
   "metadata": {},
   "outputs": [],
   "source": [
    "\n",
    "df = pd.read_csv('Online-product1.csv')\n"
   ]
  },
  {
   "cell_type": "code",
   "execution_count": null,
   "metadata": {},
   "outputs": [],
   "source": [
    "df.head()"
   ]
  },
  {
   "cell_type": "code",
   "execution_count": null,
   "metadata": {},
   "outputs": [],
   "source": [
    "df1 = df[pd.notnull(df['TCIN'])]"
   ]
  },
  {
   "cell_type": "code",
   "execution_count": null,
   "metadata": {},
   "outputs": [],
   "source": [
    "df1.groupby(['PRODUCT_TITLE']).agg({'UNITS_SOLD_o':np.sum}).reset_index()"
   ]
  },
  {
   "cell_type": "code",
   "execution_count": null,
   "metadata": {},
   "outputs": [],
   "source": [
    "plt.figure(figsize =(10, 12)) \n",
    "sns.boxplot(y= df1['UNITS_SOLD_o'], x = df1['BRAND_NAME'])"
   ]
  },
  {
   "cell_type": "code",
   "execution_count": null,
   "metadata": {},
   "outputs": [],
   "source": [
    "plt.rc('font', size=12)\n",
    "fig, ax = plt.subplots(figsize=(10, 6))"
   ]
  },
  {
   "cell_type": "code",
   "execution_count": null,
   "metadata": {},
   "outputs": [],
   "source": [
    "ax.plot(df1.DATE_o, df1.UNITS_SOLD_o, color='tab:orange', label='Windspeed')\n"
   ]
  },
  {
   "cell_type": "code",
   "execution_count": null,
   "metadata": {},
   "outputs": [],
   "source": [
    "ax.set_xlabel('DATE_o')\n",
    "ax.set_ylabel('UNITS_SOLD_o')\n",
    "ax.set_title('Unit Sold')\n",
    "ax.grid(True)\n",
    "ax.legend(loc='upper left')"
   ]
  },
  {
   "cell_type": "code",
   "execution_count": null,
   "metadata": {},
   "outputs": [],
   "source": [
    "dfshampoo = df1[df1[\"PRODUCT_TITLE\"].str.contains(\"Shampoo\") == True]"
   ]
  },
  {
   "cell_type": "code",
   "execution_count": null,
   "metadata": {},
   "outputs": [],
   "source": [
    "plt.figure(figsize =(10, 12)) \n",
    "sns.boxplot(y= dfshampoo['UNITS_SOLD_o'], x = dfshampoo['PRODUCT_TITLE'])"
   ]
  },
  {
   "cell_type": "code",
   "execution_count": null,
   "metadata": {},
   "outputs": [],
   "source": [
    "dfs = dfshampoo.head(10)\n"
   ]
  },
  {
   "cell_type": "code",
   "execution_count": null,
   "metadata": {},
   "outputs": [],
   "source": [
    "plt.figure(figsize =(10, 12)) \n",
    "sns.boxplot(y= dfs['UNITS_SOLD_o'], x = dfs['PRODUCT_TITLE']) \n",
    "for label in ax.get_xticklabels():\n",
    "  label.set_rotation(45)\n",
    "  label.set_ha('right')"
   ]
  },
  {
   "cell_type": "code",
   "execution_count": null,
   "metadata": {},
   "outputs": [],
   "source": [
    "plot=sns.barplot(data=dfshampoo,  x=\"PRODUCT_TITLE\", y=\"UNITS_SOLD_o\")\n",
    "plt.setp(plot.get_xticklabels(), rotation=90)\n"
   ]
  },
  {
   "cell_type": "code",
   "execution_count": null,
   "metadata": {},
   "outputs": [],
   "source": [
    "plot=sns.barplot(data=dfshampoo,  x=\"PRODUCT_TITLE\", y=\"UNITS_RESTOCKED_o\")\n",
    "plt.setp(plot.get_xticklabels(), rotation=90)"
   ]
  },
  {
   "cell_type": "code",
   "execution_count": null,
   "metadata": {},
   "outputs": [],
   "source": [
    "corr = df1[['PRODUCT_TITLE', 'PRODUCT_DESCRIPTION', 'BRAND_NAME',\n",
    "       'BRAND_MANUFACTURER', 'PRODUCT_CATEGORY_CLASSIFICATION_NAME',\n",
    "       'ITEM_TYPE_NAME', 'PRODUCT_TYPE_NAME', 'DATE_o', 'UNITS_SOLD_o',\n",
    "       'UNITS_RESTOCKED_o', 'AVAILIBLE_QUANTITY_o', 'CURRENT_PRICE_o']].corr()\n",
    "corr.style.background_gradient(cmap='coolwarm').set_precision(2)\n"
   ]
  },
  {
   "cell_type": "code",
   "execution_count": null,
   "metadata": {},
   "outputs": [],
   "source": [
    "plt.rc('font', size=12)\n",
    "fig, ax = plt.subplots(figsize=(10, 6))"
   ]
  },
  {
   "cell_type": "code",
   "execution_count": null,
   "metadata": {},
   "outputs": [],
   "source": [
    "ax.plot(dfshampoo.DATE_o, dfshampoo.UNITS_SOLD_o, color='tab:orange', label='unit sold')"
   ]
  },
  {
   "cell_type": "code",
   "execution_count": null,
   "metadata": {},
   "outputs": [],
   "source": [
    "ax.set_xlabel('DATE_o')\n",
    "plt.xticks(rotation=90)\n",
    "ax.set_ylabel('UNITS_SOLD_o')\n",
    "ax.set_title('Unit Sold')\n",
    "ax.grid(True)\n",
    "ax.legend(loc='upper left');"
   ]
  },
  {
   "cell_type": "code",
   "execution_count": null,
   "metadata": {},
   "outputs": [],
   "source": []
  }
 ],
 "metadata": {
  "kernelspec": {
   "display_name": "Python 3",
   "language": "python",
   "name": "python3"
  },
  "language_info": {
   "codemirror_mode": {
    "name": "ipython",
    "version": 3
   },
   "file_extension": ".py",
   "mimetype": "text/x-python",
   "name": "python",
   "nbconvert_exporter": "python",
   "pygments_lexer": "ipython3",
   "version": "3.8.5"
  }
 },
 "nbformat": 4,
 "nbformat_minor": 4
}
